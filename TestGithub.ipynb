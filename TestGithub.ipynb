{
  "cells": [
    {
      "cell_type": "markdown",
      "metadata": {
        "colab_type": "text",
        "id": "view-in-github"
      },
      "source": [
        "<a href=\"https://colab.research.google.com/github/DanielABQ/ColabTest/blob/main/TestGithub.ipynb\" target=\"_parent\"><img src=\"https://colab.research.google.com/assets/colab-badge.svg\" alt=\"Open In Colab\"/></a>"
      ]
    },
    {
      "cell_type": "markdown",
      "metadata": {
        "id": "ebnRacaKpIhg"
      },
      "source": [
        "This is the first time that I have setup something on either GitHub or Google Colab.\n",
        "\n",
        "This notebook will be saved in a GitHub repository on my account."
      ]
    },
    {
      "cell_type": "code",
      "execution_count": 1,
      "metadata": {},
      "outputs": [
        {
          "name": "stdout",
          "output_type": "stream",
          "text": [
            "[0, 1, 2, 4, 6, 8, 10, 12, 14, 16, 18, 20, 22, 24, 34]\n"
          ]
        }
      ],
      "source": [
        "p_array = [2]\n",
        "for i in range(3,2000):\n",
        "  # print(i, end=\" \")\n",
        "  is_prime = True\n",
        "\n",
        "  for p in p_array:\n",
        "    if (i % p) == 0:\n",
        "      is_prime = False\n",
        "\n",
        "  if is_prime:\n",
        "    p_array.append(i)\n",
        "# print()\n",
        "# print(p_array)\n",
        "\n",
        "l_prime = 2\n",
        "\n",
        "set_of_dif = set()\n",
        "\n",
        "for p2 in p_array:\n",
        "  # print(p2, end=\" \")\n",
        "  diff = p2 - l_prime\n",
        "  # print (diff)\n",
        "  set_of_dif.add(diff)\n",
        "  l_prime = p2\n",
        "\n",
        "print(sorted(set_of_dif))"
      ]
    }
  ],
  "metadata": {
    "colab": {
      "authorship_tag": "ABX9TyNPfVtDBcj9HZAutJXESDnu",
      "include_colab_link": true,
      "provenance": []
    },
    "kernelspec": {
      "display_name": "Python 3",
      "name": "python3"
    },
    "language_info": {
      "codemirror_mode": {
        "name": "ipython",
        "version": 3
      },
      "file_extension": ".py",
      "mimetype": "text/x-python",
      "name": "python",
      "nbconvert_exporter": "python",
      "pygments_lexer": "ipython3",
      "version": "3.10.4"
    }
  },
  "nbformat": 4,
  "nbformat_minor": 0
}
